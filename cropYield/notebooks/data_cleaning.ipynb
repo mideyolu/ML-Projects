{
 "cells": [
  {
   "cell_type": "markdown",
   "metadata": {},
   "source": [
    "### **DATA CLEANING AND FEATURE ENGINEERING**"
   ]
  },
  {
   "cell_type": "markdown",
   "metadata": {},
   "source": [
    "**Default Setup**"
   ]
  },
  {
   "cell_type": "code",
   "execution_count": 35,
   "metadata": {},
   "outputs": [
    {
     "name": "stdout",
     "output_type": "stream",
     "text": [
      "Current Working Directory: C:\\Users\\USER\\Desktop\\cropYield\n"
     ]
    }
   ],
   "source": [
    "from dotenv import load_dotenv\n",
    "import os\n",
    "\n",
    "load_dotenv()\n",
    "project_root= os.getenv(\"PROJECT_ROOT\")\n",
    "os.chdir(project_root)\n",
    "# Verify the change\n",
    "print(\"Current Working Directory:\", os.getcwd())"
   ]
  },
  {
   "cell_type": "markdown",
   "metadata": {},
   "source": [
    "**Importing the Required Modules**"
   ]
  },
  {
   "cell_type": "code",
   "execution_count": 36,
   "metadata": {},
   "outputs": [],
   "source": [
    "from src.data.dataset_loader import load_data\n",
    "from src.data.data_cleaning import clean_data\n",
    "from src.data.feature_engineering import engineer_features\n",
    "from src.data.data_splitting import split_data"
   ]
  },
  {
   "cell_type": "code",
   "execution_count": 37,
   "metadata": {},
   "outputs": [],
   "source": [
    "# Build the path to the CSV file\n",
    "data_path = os.path.join('data', 'raw', 'crop_yield_data.csv')"
   ]
  },
  {
   "cell_type": "markdown",
   "metadata": {},
   "source": [
    "**Data Loading**"
   ]
  },
  {
   "cell_type": "code",
   "execution_count": 38,
   "metadata": {},
   "outputs": [
    {
     "name": "stdout",
     "output_type": "stream",
     "text": [
      "Head data\n",
      "   rainfall_mm  soil_quality_index  farm_size_hectares  sunlight_hours  \\\n",
      "0         1626                   9                 636              11   \n",
      "1         1959                   9                  73              11   \n",
      "2         1360                   1                 352               5   \n",
      "3         1794                   2                 948               7   \n",
      "4         1630                   5                 884               5   \n",
      "\n",
      "   fertilizer_kg  crop_yield  \n",
      "0           1006         404  \n",
      "1            112         115  \n",
      "2            702         231  \n",
      "3            299         537  \n",
      "4           2733         554  \n",
      "Tail data\n",
      "      rainfall_mm  soil_quality_index  farm_size_hectares  sunlight_hours  \\\n",
      "2995         1483                   9                  78              12   \n",
      "2996          804                   9                 481               4   \n",
      "2997          870                   1                 113               7   \n",
      "2998         1352                   6                 767              11   \n",
      "2999          883                   7                 170              11   \n",
      "\n",
      "      fertilizer_kg  crop_yield  \n",
      "2995           2739         155  \n",
      "2996           1898         319  \n",
      "2997           2282         129  \n",
      "2998           2901         493  \n",
      "2999            485         134  \n"
     ]
    }
   ],
   "source": [
    "# Use the load_data function to load the data\n",
    "crop_data = load_data(data_path)\n",
    "\n",
    "print(\"Head data\")\n",
    "# Display the first few rows of the loaded data\n",
    "print(crop_data.head())\n",
    "\n",
    "print(\"Tail data\")\n",
    "# Display the last few rows of the loaded data\n",
    "print(crop_data.tail())"
   ]
  },
  {
   "cell_type": "code",
   "execution_count": 39,
   "metadata": {},
   "outputs": [
    {
     "name": "stdout",
     "output_type": "stream",
     "text": [
      "Total Rows 3000\n",
      "Total Columns: 6\n"
     ]
    }
   ],
   "source": [
    "#checking the total rows and columns\n",
    "print(f\"Total Rows {crop_data.shape[0]}\\nTotal Columns: {crop_data.shape[1]}\")\n"
   ]
  },
  {
   "cell_type": "markdown",
   "metadata": {},
   "source": [
    "**Inferences**\n",
    "****\n",
    "**. There is a total of 3000 rows (instances) and 6 Features (Columns)**"
   ]
  },
  {
   "cell_type": "code",
   "execution_count": 40,
   "metadata": {},
   "outputs": [
    {
     "name": "stdout",
     "output_type": "stream",
     "text": [
      "<class 'pandas.core.frame.DataFrame'>\n",
      "RangeIndex: 3000 entries, 0 to 2999\n",
      "Data columns (total 6 columns):\n",
      " #   Column              Non-Null Count  Dtype\n",
      "---  ------              --------------  -----\n",
      " 0   rainfall_mm         3000 non-null   int64\n",
      " 1   soil_quality_index  3000 non-null   int64\n",
      " 2   farm_size_hectares  3000 non-null   int64\n",
      " 3   sunlight_hours      3000 non-null   int64\n",
      " 4   fertilizer_kg       3000 non-null   int64\n",
      " 5   crop_yield          3000 non-null   int64\n",
      "dtypes: int64(6)\n",
      "memory usage: 140.8 KB\n"
     ]
    }
   ],
   "source": [
    "#statistical structure\n",
    "crop_data.info()"
   ]
  },
  {
   "cell_type": "markdown",
   "metadata": {},
   "source": [
    "**Inferences**\n",
    "****\n",
    "**. All Features (Columns) in the data are Numerical values**"
   ]
  },
  {
   "cell_type": "code",
   "execution_count": 41,
   "metadata": {},
   "outputs": [
    {
     "data": {
      "text/html": [
       "<div>\n",
       "<style scoped>\n",
       "    .dataframe tbody tr th:only-of-type {\n",
       "        vertical-align: middle;\n",
       "    }\n",
       "\n",
       "    .dataframe tbody tr th {\n",
       "        vertical-align: top;\n",
       "    }\n",
       "\n",
       "    .dataframe thead th {\n",
       "        text-align: right;\n",
       "    }\n",
       "</style>\n",
       "<table border=\"1\" class=\"dataframe\">\n",
       "  <thead>\n",
       "    <tr style=\"text-align: right;\">\n",
       "      <th></th>\n",
       "      <th>rainfall_mm</th>\n",
       "      <th>soil_quality_index</th>\n",
       "      <th>farm_size_hectares</th>\n",
       "      <th>sunlight_hours</th>\n",
       "      <th>fertilizer_kg</th>\n",
       "      <th>crop_yield</th>\n",
       "    </tr>\n",
       "  </thead>\n",
       "  <tbody>\n",
       "    <tr>\n",
       "      <th>count</th>\n",
       "      <td>3000.000000</td>\n",
       "      <td>3000.000000</td>\n",
       "      <td>3000.000000</td>\n",
       "      <td>3000.000000</td>\n",
       "      <td>3000.000000</td>\n",
       "      <td>3000.000000</td>\n",
       "    </tr>\n",
       "    <tr>\n",
       "      <th>mean</th>\n",
       "      <td>1263.095000</td>\n",
       "      <td>5.506667</td>\n",
       "      <td>498.801000</td>\n",
       "      <td>7.995333</td>\n",
       "      <td>1549.450333</td>\n",
       "      <td>328.099000</td>\n",
       "    </tr>\n",
       "    <tr>\n",
       "      <th>std</th>\n",
       "      <td>432.371756</td>\n",
       "      <td>2.855172</td>\n",
       "      <td>287.122742</td>\n",
       "      <td>2.621501</td>\n",
       "      <td>814.326919</td>\n",
       "      <td>145.036503</td>\n",
       "    </tr>\n",
       "    <tr>\n",
       "      <th>min</th>\n",
       "      <td>500.000000</td>\n",
       "      <td>1.000000</td>\n",
       "      <td>10.000000</td>\n",
       "      <td>4.000000</td>\n",
       "      <td>100.000000</td>\n",
       "      <td>46.000000</td>\n",
       "    </tr>\n",
       "    <tr>\n",
       "      <th>25%</th>\n",
       "      <td>896.000000</td>\n",
       "      <td>3.000000</td>\n",
       "      <td>242.000000</td>\n",
       "      <td>6.000000</td>\n",
       "      <td>869.750000</td>\n",
       "      <td>199.000000</td>\n",
       "    </tr>\n",
       "    <tr>\n",
       "      <th>50%</th>\n",
       "      <td>1277.000000</td>\n",
       "      <td>6.000000</td>\n",
       "      <td>505.000000</td>\n",
       "      <td>8.000000</td>\n",
       "      <td>1542.000000</td>\n",
       "      <td>332.000000</td>\n",
       "    </tr>\n",
       "    <tr>\n",
       "      <th>75%</th>\n",
       "      <td>1636.000000</td>\n",
       "      <td>8.000000</td>\n",
       "      <td>741.000000</td>\n",
       "      <td>10.000000</td>\n",
       "      <td>2225.000000</td>\n",
       "      <td>455.000000</td>\n",
       "    </tr>\n",
       "    <tr>\n",
       "      <th>max</th>\n",
       "      <td>2000.000000</td>\n",
       "      <td>10.000000</td>\n",
       "      <td>1000.000000</td>\n",
       "      <td>12.000000</td>\n",
       "      <td>3000.000000</td>\n",
       "      <td>628.000000</td>\n",
       "    </tr>\n",
       "  </tbody>\n",
       "</table>\n",
       "</div>"
      ],
      "text/plain": [
       "       rainfall_mm  soil_quality_index  farm_size_hectares  sunlight_hours  \\\n",
       "count  3000.000000         3000.000000         3000.000000     3000.000000   \n",
       "mean   1263.095000            5.506667          498.801000        7.995333   \n",
       "std     432.371756            2.855172          287.122742        2.621501   \n",
       "min     500.000000            1.000000           10.000000        4.000000   \n",
       "25%     896.000000            3.000000          242.000000        6.000000   \n",
       "50%    1277.000000            6.000000          505.000000        8.000000   \n",
       "75%    1636.000000            8.000000          741.000000       10.000000   \n",
       "max    2000.000000           10.000000         1000.000000       12.000000   \n",
       "\n",
       "       fertilizer_kg   crop_yield  \n",
       "count    3000.000000  3000.000000  \n",
       "mean     1549.450333   328.099000  \n",
       "std       814.326919   145.036503  \n",
       "min       100.000000    46.000000  \n",
       "25%       869.750000   199.000000  \n",
       "50%      1542.000000   332.000000  \n",
       "75%      2225.000000   455.000000  \n",
       "max      3000.000000   628.000000  "
      ]
     },
     "execution_count": 41,
     "metadata": {},
     "output_type": "execute_result"
    }
   ],
   "source": [
    "#statistical structure\n",
    "crop_data.describe()"
   ]
  },
  {
   "cell_type": "code",
   "execution_count": 42,
   "metadata": {},
   "outputs": [
    {
     "data": {
      "text/plain": [
       "rainfall_mm           0\n",
       "soil_quality_index    0\n",
       "farm_size_hectares    0\n",
       "sunlight_hours        0\n",
       "fertilizer_kg         0\n",
       "crop_yield            0\n",
       "dtype: int64"
      ]
     },
     "execution_count": 42,
     "metadata": {},
     "output_type": "execute_result"
    }
   ],
   "source": [
    "#Checking for missing values\n",
    "crop_data.isna().sum()"
   ]
  },
  {
   "cell_type": "markdown",
   "metadata": {},
   "source": [
    "**Inferences**\n",
    "****\n",
    "**. There are no missng values**\n",
    "****\n",
    "**. We will still perform data cleaning to remove outliers if they exists**"
   ]
  },
  {
   "cell_type": "code",
   "execution_count": 43,
   "metadata": {},
   "outputs": [
    {
     "data": {
      "text/plain": [
       "(3000, 6)"
      ]
     },
     "execution_count": 43,
     "metadata": {},
     "output_type": "execute_result"
    }
   ],
   "source": [
    "#performing data cleaning to remove outliers\n",
    "crop_data_cleaned= clean_data(crop_data)\n",
    "crop_data_cleaned.shape"
   ]
  },
  {
   "cell_type": "code",
   "execution_count": 44,
   "metadata": {},
   "outputs": [],
   "source": [
    "# saving the cleaned data\n",
    "# Build the path to the CSV file\n",
    "data_path = os.path.join('data', 'processed', 'cleaned_crop_yield_data.csv')\n",
    "crop_data.to_csv(data_path, index=False)"
   ]
  },
  {
   "cell_type": "markdown",
   "metadata": {},
   "source": [
    "**Inferences**\n",
    "****\n",
    "****. Guess there are no outliers the datset size still remains 3000 rows (instances)****"
   ]
  },
  {
   "cell_type": "markdown",
   "metadata": {},
   "source": [
    "**Feature Engineering**"
   ]
  },
  {
   "cell_type": "code",
   "execution_count": 45,
   "metadata": {},
   "outputs": [],
   "source": [
    "#performing feature engineering to scale the data\n",
    "final_crop_data = engineer_features(crop_data_cleaned)"
   ]
  },
  {
   "cell_type": "code",
   "execution_count": 46,
   "metadata": {},
   "outputs": [],
   "source": [
    "# saving the cleaned data\n",
    "# Build the path to the CSV file\n",
    "data_path = os.path.join('data', 'processed', 'processed_crop_yield_data.csv')\n",
    "final_crop_data.to_csv(data_path, index=False)"
   ]
  },
  {
   "cell_type": "markdown",
   "metadata": {},
   "source": [
    "**Data Splitting**"
   ]
  },
  {
   "cell_type": "code",
   "execution_count": 47,
   "metadata": {},
   "outputs": [
    {
     "name": "stdout",
     "output_type": "stream",
     "text": [
      "Training data saved to data/train/train.csv\n",
      "Testing data saved to data/test/test.csv\n"
     ]
    }
   ],
   "source": [
    "split_data(\n",
    "    input_data_path=data_path,\n",
    "    output_train_path='data/train/train.csv',\n",
    "    output_test_path='data/test/test.csv',\n",
    "    target_column='crop_yield',\n",
    "    seed=42,\n",
    "    test_size=0.2,\n",
    ")"
   ]
  },
  {
   "cell_type": "code",
   "execution_count": null,
   "metadata": {},
   "outputs": [],
   "source": []
  }
 ],
 "metadata": {
  "kernelspec": {
   "display_name": "Python 3",
   "language": "python",
   "name": "python3"
  },
  "language_info": {
   "codemirror_mode": {
    "name": "ipython",
    "version": 3
   },
   "file_extension": ".py",
   "mimetype": "text/x-python",
   "name": "python",
   "nbconvert_exporter": "python",
   "pygments_lexer": "ipython3",
   "version": "3.10.8"
  }
 },
 "nbformat": 4,
 "nbformat_minor": 2
}
